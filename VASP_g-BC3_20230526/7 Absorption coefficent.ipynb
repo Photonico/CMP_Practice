{
 "cells": [
  {
   "attachments": {},
   "cell_type": "markdown",
   "metadata": {},
   "source": [
    "# Absorption coefficent\n",
    "\n",
    "$$ \n",
    "I(\\omega) = \\sqrt{2}[\\sqrt{\\varepsilon_1(\\omega)^2+\\varepsilon_2(\\omega)^2}-\\varepsilon_1(\\omega)]\n",
    "$$\n",
    "\n",
    "where $\\varepsilon_1$ is the real part;\n",
    "\n",
    "$\\varepsilon_2$ is the imaginary part."
   ]
  },
  {
   "attachments": {},
   "cell_type": "markdown",
   "metadata": {},
   "source": []
  },
  {
   "cell_type": "code",
   "execution_count": null,
   "metadata": {},
   "outputs": [],
   "source": [
    "import numpy as np\n",
    "from optical_properties import extract_optical_properties\n",
    "\n"
   ]
  }
 ],
 "metadata": {
  "kernelspec": {
   "display_name": "base",
   "language": "python",
   "name": "python3"
  },
  "language_info": {
   "name": "python",
   "version": "3.10.9"
  },
  "orig_nbformat": 4
 },
 "nbformat": 4,
 "nbformat_minor": 2
}
