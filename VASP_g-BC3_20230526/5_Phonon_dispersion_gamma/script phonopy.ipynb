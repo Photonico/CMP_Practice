{
 "cells": [
  {
   "attachments": {},
   "cell_type": "markdown",
   "metadata": {},
   "source": [
    "# Script for Phonon Dispersion via PhonoPy\n",
    "\n",
    "#### In the file `INCAR`:\n",
    "\n",
    "+ `IBRION = -1`: \n",
    "\n",
    "$$ C \\sim \\frac{\\Delta F}{\\Delta r} $$\n",
    "\n",
    "where $C$ is the force constant, $\\Delta r$ is the finite displacement, $\\Delta F = F(r_\\mathrm{init}+\\Delta r) - F(r_\\mathrm{init})$ is the force due to the finite displacement.\n",
    "\n",
    "+ `IBRION = 8` means the Perturbation theory method: \n",
    "\n",
    "$$ C \\sim \\rm{DFPT} $$\n"
   ]
  },
  {
   "cell_type": "code",
   "execution_count": null,
   "metadata": {},
   "outputs": [],
   "source": [
    "# Rename POCAR to POSCAR-unitcell\n",
    "\n",
    "import subprocess\n",
    "\n",
    "rename_poscar = \"mv POSCAR POSCAR-unitcell\"\n",
    "\n",
    "subprocess.run(rename_poscar, shell=True, check=True)"
   ]
  },
  {
   "cell_type": "code",
   "execution_count": null,
   "metadata": {},
   "outputs": [],
   "source": [
    "# The extension of cell\n",
    "\n",
    "import subprocess\n",
    "\n",
    "cell_extension = \"phonopy -d --dim 6 6 1 -c POSCAR-unitcell\"\n",
    "\n",
    "subprocess.run(cell_extension, shell=True, check=True)\n"
   ]
  },
  {
   "cell_type": "code",
   "execution_count": null,
   "metadata": {},
   "outputs": [],
   "source": [
    "# Rename SPOCAR to POSCAR\n",
    "\n",
    "import subprocess\n",
    "\n",
    "rename_sposcar = \"mv SPOSCAR POSCAR\"\n",
    "\n",
    "subprocess.run(rename_poscar, shell=True, check=True)"
   ]
  },
  {
   "cell_type": "code",
   "execution_count": null,
   "metadata": {},
   "outputs": [],
   "source": [
    "# Launch VASP\n",
    "\n",
    "import subprocess\n",
    "\n",
    "vasp_job = \"qsub vasp_job.sh\"\n",
    "\n",
    "subprocess.run(vasp_job, shell=True, check=True)"
   ]
  },
  {
   "cell_type": "code",
   "execution_count": null,
   "metadata": {},
   "outputs": [],
   "source": [
    "# Using vasprun.xml get the force constants\n",
    "\n",
    "import subprocess\n",
    "\n",
    "process_vasprun = \"phonopy --fc vasprun.xml\"\n",
    "\n",
    "subprocess.run(process_vasprun, shell=True, check=True)\n"
   ]
  },
  {
   "cell_type": "code",
   "execution_count": null,
   "metadata": {},
   "outputs": [],
   "source": [
    "# Create a file named \"band.conf\"\n",
    "\n",
    "\"\"\"\n",
    "ATOM_NAME = B C\n",
    "DIM = 3 3 1\n",
    "FORCE_CONSTANTS = READ\n",
    "# PRIMITIVE_AXIS = 0.866 0.500 0.000  -0.866 0.500 0.000  0.000 0.000 0.000\n",
    "BAND = 0.333 0.333 0.000   0.000 0.000 0.000   0.000 0.500 0.000   0.000 0.333 0.000\n",
    "BAND_LABELS = K $\\Gamma$ M K\n",
    "BAND_POINTS = 101\n",
    "BAND_CONNECTION = .TRUE.\n",
    "\"\"\"\n"
   ]
  },
  {
   "cell_type": "code",
   "execution_count": null,
   "metadata": {},
   "outputs": [],
   "source": [
    "# Export phonon dispersion\n",
    "\n",
    "import subprocess\n",
    "\n",
    "phonon_dispersion = \"phonopy -p -c POSCAR-unitcell band.conf\"\n",
    "\n",
    "subprocess.run(phonon_dispersion, shell=True, check=True)\n"
   ]
  },
  {
   "cell_type": "code",
   "execution_count": null,
   "metadata": {},
   "outputs": [],
   "source": [
    "# Creat a file named \"pdos.conf\"\n",
    "\n",
    "\"\"\"\n",
    "ATOM_NAME = B C\n",
    "DIM = 3 3 1\n",
    "MP = 8 8 8\n",
    "PDOS = 1 2, 3 4 5 6 7 8\n",
    "\"\"\""
   ]
  },
  {
   "cell_type": "code",
   "execution_count": null,
   "metadata": {},
   "outputs": [],
   "source": [
    "# Export phonon PDOS\n",
    "\n",
    "import subprocess\n",
    "\n",
    "phonon_PDOS = \"phonopy -p -c POSCAR-unitcell pdos.conf\"\n",
    "\n",
    "subprocess.run(phonon_PDOS, shell=True, check=True)\n"
   ]
  }
 ],
 "metadata": {
  "kernelspec": {
   "display_name": "base",
   "language": "python",
   "name": "python3"
  },
  "language_info": {
   "codemirror_mode": {
    "name": "ipython",
    "version": 3
   },
   "file_extension": ".py",
   "mimetype": "text/x-python",
   "name": "python",
   "nbconvert_exporter": "python",
   "pygments_lexer": "ipython3",
   "version": "3.10.9"
  },
  "orig_nbformat": 4
 },
 "nbformat": 4,
 "nbformat_minor": 2
}
